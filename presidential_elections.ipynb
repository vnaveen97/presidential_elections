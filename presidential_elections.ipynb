{
 "cells": [
  {
   "cell_type": "markdown",
   "metadata": {},
   "source": [
    "identify metrics for effectiveness of donations and campaign spending, what characterizes an effective donation or spending?\n",
    "\n",
    "Where should it be directed?\n",
    " \n",
    "Is this effectiveness becoming more or less pronounced over time?\n",
    "\n",
    "What other factors and data may need to be brought into the analysis?\n"
   ]
  },
  {
   "cell_type": "markdown",
   "metadata": {},
   "source": [
    "Federal Election Commission (FEC) election data\n",
    "\n",
    "https://www.fec.gov/campaign-finance-data/lobbyist-bundled-contributions-file-description/"
   ]
  },
  {
   "cell_type": "markdown",
   "metadata": {},
   "source": [
    "Possible examples include turnout, demographics, and media market spending.\n"
   ]
  },
  {
   "cell_type": "code",
   "execution_count": null,
   "metadata": {},
   "outputs": [],
   "source": []
  }
 ],
 "metadata": {
  "kernelspec": {
   "display_name": "Python 3",
   "language": "python",
   "name": "python3"
  },
  "language_info": {
   "codemirror_mode": {
    "name": "ipython",
    "version": 3
   },
   "file_extension": ".py",
   "mimetype": "text/x-python",
   "name": "python",
   "nbconvert_exporter": "python",
   "pygments_lexer": "ipython3",
   "version": "3.8.5"
  }
 },
 "nbformat": 4,
 "nbformat_minor": 4
}
